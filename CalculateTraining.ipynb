{
  "nbformat": 4,
  "nbformat_minor": 0,
  "metadata": {
    "colab": {
      "provenance": [],
      "collapsed_sections": [
        "4p5l-zVO-OUt",
        "Cc1qlRpk-TsE"
      ],
      "authorship_tag": "ABX9TyNjaeSaqF11D+lcx5AxeRKy",
      "include_colab_link": true
    },
    "kernelspec": {
      "name": "python3",
      "display_name": "Python 3"
    },
    "language_info": {
      "name": "python"
    }
  },
  "cells": [
    {
      "cell_type": "markdown",
      "metadata": {
        "id": "view-in-github",
        "colab_type": "text"
      },
      "source": [
        "<a href=\"https://colab.research.google.com/github/ImNotDanish05/Umamusume_pretty_derby/blob/main/CalculateTraining.ipynb\" target=\"_parent\"><img src=\"https://colab.research.google.com/assets/colab-badge.svg\" alt=\"Open In Colab\"/></a>"
      ]
    },
    {
      "cell_type": "markdown",
      "source": [
        "Full Information Stats: <br>\n",
        "https://gamerant.com/umamusume-pretty-derby-stats-explained-speed-stamina-power-guts-wit/"
      ],
      "metadata": {
        "id": "eprsIirz2xkN"
      }
    },
    {
      "cell_type": "markdown",
      "source": [
        "## 💠 Tentang Mejiro McQueen dan Program Ini\n",
        "\n",
        "**Mejiro McQueen** adalah salah satu karakter utama dalam game *Uma Musume Pretty Derby*, yang terkenal sebagai seorang gadis kuda (horse girl) dengan latar belakang aristokrat dan kepribadian yang elegan. Ia adalah pelari tipe *Pace* dan unggul dalam lomba-lomba jarak jauh (*long distance*). Karena peran utamanya sebagai *Pace*, penting untuk menyesuaikan status (stats) seperti stamina dan power agar performanya optimal di lomba-lomba berat yang panjang.\n",
        "\n",
        "### 🎯 Tujuan Program\n",
        "Program ini dirancang untuk mempermudah kamu menghitung distribusi statistik berdasarkan **Stamina** yang diinput. Dengan mengetahui stamina, kamu bisa menghitung estimasi nilai:\n",
        "- Speed\n",
        "- Stamina\n",
        "- Power\n",
        "- Guts\n",
        "- Wit\n",
        "\n",
        "Program ini cocok untuk melacak keseimbangan distribusi stat selama masa training Mejiro McQueen dan memastikan dia siap menghadapi race berat jarak jauh.\n",
        "\n",
        "### 🧠 Cara Kerja Output\n",
        "Input: Nilai stamina (misal: 350)\\\n",
        "Output: Nilai stat lain yang dihitung berdasarkan persentase distribusi untuk karakter Mejiro McQueen.\n",
        "\n",
        "Distribusi:\n",
        "- Speed: 30%\n",
        "- Stamina: 35%\n",
        "- Power: 20%\n",
        "- Guts: 5%\n",
        "- Wit: 10%\n",
        "\n",
        "Output akan diurutkan dalam urutan:\n",
        "Speed, Stamina, Power, Guts, Wit\n",
        "\n",
        "---"
      ],
      "metadata": {
        "id": "4p5l-zVO-OUt"
      }
    },
    {
      "cell_type": "code",
      "source": [
        "def hitung_stat_dari_input(tipe_input, nilai_input):\n",
        "    # Persentase dasar\n",
        "    persen_stats = {\n",
        "        \"Speed\": 30,\n",
        "        \"Stamina\": 35,\n",
        "        \"Power\": 20,\n",
        "        \"Guts\": 5,\n",
        "        \"Wit\": 10\n",
        "    }\n",
        "\n",
        "    # Mapping kode ke nama stat\n",
        "    kode_stat = {\n",
        "        \"sp\": \"Speed\",\n",
        "        \"st\": \"Stamina\",\n",
        "        \"pw\": \"Power\",\n",
        "        \"gt\": \"Guts\",\n",
        "        \"wt\": \"Wit\"\n",
        "    }\n",
        "\n",
        "    if tipe_input not in kode_stat:\n",
        "        print(\"Kode tipe tidak valid! Gunakan: sp, st, pw, gt, wt\")\n",
        "        return\n",
        "\n",
        "    # Ambil nama stat dan persentasenya\n",
        "    stat_patokan = kode_stat[tipe_input]\n",
        "    persen_patokan = persen_stats[stat_patokan]\n",
        "\n",
        "    # Hitung 1% berdasarkan input stat\n",
        "    nilai_per_persen = nilai_input / persen_patokan\n",
        "\n",
        "    # Hitung semua stat berdasarkan nilai per persen\n",
        "    hasil_stat = {}\n",
        "    for stat, persen in persen_stats.items():\n",
        "        hasil_stat[stat] = round(persen * nilai_per_persen)\n",
        "\n",
        "    # Urutkan output sesuai permintaan\n",
        "    urutan_output = [\"Speed\", \"Stamina\", \"Power\", \"Guts\", \"Wit\"]\n",
        "    print(\"\\n📊 Hasil Stat dari Input:\")\n",
        "    for stat in urutan_output:\n",
        "        print(f\"{stat}: {hasil_stat[stat]}\")\n",
        "\n",
        "# === Contoh pemakaian:\n",
        "print(\"Pilih tipe stat patokan (sp = Speed, st = Stamina, pw = Power, gt = Guts, wt = Wit)\")\n",
        "tipe = input(\"Masukkan kode tipe stat: \").strip().lower()\n",
        "nilai = int(input(\"Masukkan nilai stat tersebut: \"))\n",
        "hitung_stat_dari_input(tipe, nilai)"
      ],
      "metadata": {
        "id": "raIwPRP3Q_Fe",
        "outputId": "a830825b-98c1-4439-cdf4-1fd53b8d76d0",
        "colab": {
          "base_uri": "https://localhost:8080/"
        }
      },
      "execution_count": null,
      "outputs": [
        {
          "output_type": "stream",
          "name": "stdout",
          "text": [
            "Pilih tipe stat patokan (sp = Speed, st = Stamina, pw = Power, gt = Guts, wt = Wit)\n",
            "Masukkan kode tipe stat: sp\n",
            "Masukkan nilai stat tersebut: 627\n",
            "\n",
            "📊 Hasil Stat dari Input:\n",
            "Speed: 627\n",
            "Stamina: 732\n",
            "Power: 418\n",
            "Guts: 104\n",
            "Wit: 209\n"
          ]
        }
      ]
    },
    {
      "cell_type": "markdown",
      "source": [
        "## 🔺 Tentang Daiwa Scarlet dan Program Ini\n",
        "\n",
        "**Daiwa Scarlet** adalah karakter penuh semangat dalam game *Uma Musume Pretty Derby* yang berkepribadian kompetitif, percaya diri, dan penuh energi. Ia merupakan tipe pelari *Runner* yang cocok untuk lomba jarak pendek dan menengah (*short-mid distance*) yang mengandalkan kecepatan sejak awal perlombaan.\n",
        "\n",
        "Karena peran utamanya adalah *Runner*, maka distribusi statnya difokuskan untuk memaksimalkan kecepatan dan power untuk start awal yang agresif dan stabil.\n",
        "\n",
        "### 🎯 Tujuan Program\n",
        "Program ini ditujukan untuk menghitung distribusi statistik berdasarkan **Speed** yang diinput. Dengan begitu, kamu bisa memperkirakan kebutuhan training agar Daiwa Scarlet mencapai performa puncaknya sejak awal balapan.\n",
        "\n",
        "### 🧠 Cara Kerja Output\n",
        "Input: Nilai speed (misal: 400)\\\n",
        "Output: Estimasi nilai dari:\n",
        "- Speed\n",
        "- Stamina\n",
        "- Power\n",
        "- Guts\n",
        "- Wit\n",
        "\n",
        "Distribusi:\n",
        "- Speed: 40%\n",
        "- Stamina: 15%\n",
        "- Power: 30%\n",
        "- Guts: 10%\n",
        "- Wit: 5%\n",
        "\n",
        "Output akan diurutkan dalam urutan:\n",
        "Speed, Stamina, Power, Guts, Wit\n",
        "\n",
        "---"
      ],
      "metadata": {
        "id": "Cc1qlRpk-TsE"
      }
    },
    {
      "cell_type": "code",
      "source": [
        "def hitung_stat_daiwa(tipe_input, nilai_input):\n",
        "    # Persentase stat untuk Daiwa Scarlet (Front-runner)\n",
        "    persen_stats = {\n",
        "        \"Speed\": 40,\n",
        "        \"Stamina\": 20,\n",
        "        \"Power\": 25,\n",
        "        \"Guts\": 5,\n",
        "        \"Wit\": 10\n",
        "    }\n",
        "\n",
        "    # Mapping kode ke nama stat\n",
        "    kode_stat = {\n",
        "        \"sp\": \"Speed\",\n",
        "        \"st\": \"Stamina\",\n",
        "        \"pw\": \"Power\",\n",
        "        \"gt\": \"Guts\",\n",
        "        \"wt\": \"Wit\"\n",
        "    }\n",
        "\n",
        "    if tipe_input not in kode_stat:\n",
        "        print(\"⚠️ Kode tipe tidak valid! Gunakan: sp, st, pw, gt, wt\")\n",
        "        return\n",
        "\n",
        "    stat_patokan = kode_stat[tipe_input]\n",
        "    persen_patokan = persen_stats[stat_patokan]\n",
        "\n",
        "    nilai_per_persen = nilai_input / persen_patokan\n",
        "\n",
        "    hasil_stat = {}\n",
        "    for stat, persen in persen_stats.items():\n",
        "        hasil_stat[stat] = round(persen * nilai_per_persen)\n",
        "\n",
        "    print(\"\\n🔥 Build Stat: Daiwa Scarlet (Front-runner)\")\n",
        "    for stat in [\"Speed\", \"Stamina\", \"Power\", \"Guts\", \"Wit\"]:\n",
        "        print(f\"{stat}: {hasil_stat[stat]}\")\n",
        "\n",
        "# Contoh pemakaian\n",
        "print(\"Pilih tipe stat patokan (sp = Speed, st = Stamina, pw = Power, gt = Guts, wt = Wit)\")\n",
        "tipe = input(\"Masukkan kode tipe stat: \").strip().lower()\n",
        "nilai = int(input(\"Masukkan nilai stat tersebut: \"))\n",
        "hitung_stat_daiwa(tipe, nilai)"
      ],
      "metadata": {
        "colab": {
          "base_uri": "https://localhost:8080/"
        },
        "id": "MeUfFcSv9T-F",
        "outputId": "6f3e0e8f-bcbe-4467-9715-e641ed7ba23b"
      },
      "execution_count": null,
      "outputs": [
        {
          "output_type": "stream",
          "name": "stdout",
          "text": [
            "Pilih tipe stat patokan (sp = Speed, st = Stamina, pw = Power, gt = Guts, wt = Wit)\n",
            "Masukkan kode tipe stat: sp\n",
            "Masukkan nilai stat tersebut: 500\n",
            "\n",
            "🔥 Build Stat: Daiwa Scarlet (Front-runner)\n",
            "Speed: 500\n",
            "Stamina: 250\n",
            "Power: 312\n",
            "Guts: 62\n",
            "Wit: 125\n"
          ]
        }
      ]
    },
    {
      "cell_type": "markdown",
      "source": [
        "## 🏁 Tentang Vodka [Wild Top Gear] dan Program Ini\n",
        "\n",
        "**Vodka** adalah karakter berjiwa bebas dalam game *Uma Musume Pretty Derby*, dikenal sebagai pelari tipe *Pace* yang dominan di jarak pendek hingga menengah (Sprint & Mile). Dengan gaya agresif dan semangat tinggi, Vodka membutuhkan training yang seimbang antara kecepatan, akselerasi, dan kontrol stamina.\n",
        "\n",
        "Ia memiliki **Growth Bonus** terbesar di **Power (+20%)** dan **Speed (+10%)**, membuat dua stat ini penting untuk dimaksimalkan. Namun, karena dia berlari di bagian tengah race (gaya Pace), diperlukan juga Stamina dan Wit agar tetap stabil hingga akhir.\n",
        "\n",
        "### 🎯 Tujuan Program\n",
        "\n",
        "Program ini dibuat untuk membantu menghitung **distribusi statistik training Vodka** berdasarkan satu nilai stat acuan yang kamu input (contohnya Speed). Dengan begitu, kamu bisa tahu berapa kira-kira target yang ideal untuk semua stat lainnya selama masa training.\n",
        "\n",
        "Program ini sangat cocok untuk:\n",
        "- Melacak keseimbangan stat Vodka saat training\n",
        "- Menyesuaikan build sesuai dengan tipe race (Sprint atau Mile)\n",
        "- Memaksimalkan potensi Vodka sebagai pelari Pace\n",
        "\n",
        "### 🧠 Cara Kerja Output\n",
        "\n",
        "**Input:** Nilai stat patokan (misalnya Speed: 300)\\\n",
        "**Output:** Estimasi nilai semua stat berdasarkan distribusi Vodka\n",
        "\n",
        "Distribusi stat Vodka:\n",
        "- Speed: 30%\n",
        "- Stamina: 20%\n",
        "- Power: 25%\n",
        "- Guts: 5%\n",
        "- Wit: 20%\n",
        "\n",
        "**Urutan output:**\n",
        "1. Speed  \n",
        "2. Stamina  \n",
        "3. Power  \n",
        "4. Guts  \n",
        "5. Wit  "
      ],
      "metadata": {
        "id": "xdaVTafS31zd"
      }
    },
    {
      "cell_type": "code",
      "source": [
        "def hitung_stat_dari_input(tipe_input, nilai_input):\n",
        "    # Persentase rekomendasi untuk Vodka\n",
        "    persen_stats = {\n",
        "        \"Speed\": 30,\n",
        "        \"Stamina\": 20,\n",
        "        \"Power\": 25,\n",
        "        \"Guts\": 5,\n",
        "        \"Wit\": 20\n",
        "    }\n",
        "\n",
        "    # Mapping kode ke nama stat\n",
        "    kode_stat = {\n",
        "        \"sp\": \"Speed\",\n",
        "        \"st\": \"Stamina\",\n",
        "        \"pw\": \"Power\",\n",
        "        \"gt\": \"Guts\",\n",
        "        \"wt\": \"Wit\"\n",
        "    }\n",
        "\n",
        "    if tipe_input not in kode_stat:\n",
        "        print(\"Kode tipe tidak valid! Gunakan: sp, st, pw, gt, wt\")\n",
        "        return\n",
        "\n",
        "    # Ambil nama stat dan persentasenya\n",
        "    stat_patokan = kode_stat[tipe_input]\n",
        "    persen_patokan = persen_stats[stat_patokan]\n",
        "\n",
        "    # Hitung 1% berdasarkan input stat\n",
        "    nilai_per_persen = nilai_input / persen_patokan\n",
        "\n",
        "    # Hitung semua stat berdasarkan nilai per persen\n",
        "    hasil_stat = {}\n",
        "    for stat, persen in persen_stats.items():\n",
        "        hasil_stat[stat] = round(persen * nilai_per_persen)\n",
        "\n",
        "    # Urutkan output sesuai permintaan\n",
        "    urutan_output = [\"Speed\", \"Stamina\", \"Power\", \"Guts\", \"Wit\"]\n",
        "    print(\"\\n📊 Hasil Stat dari Input:\")\n",
        "    for stat in urutan_output:\n",
        "        print(f\"{stat}: {hasil_stat[stat]}\")\n",
        "\n",
        "# === Contoh pemakaian\n",
        "print(\"Pilih tipe stat patokan (sp = Speed, st = Stamina, pw = Power, gt = Guts, wt = Wit)\")\n",
        "tipe = input(\"Masukkan kode tipe stat: \").strip().lower()\n",
        "nilai = int(input(\"Masukkan nilai stat tersebut: \"))\n",
        "hitung_stat_dari_input(tipe, nilai)"
      ],
      "metadata": {
        "colab": {
          "base_uri": "https://localhost:8080/"
        },
        "id": "Gyg2bT3Z3qwk",
        "outputId": "4be50571-2fdd-43a6-a0bd-be4fc0124807"
      },
      "execution_count": 16,
      "outputs": [
        {
          "output_type": "stream",
          "name": "stdout",
          "text": [
            "Pilih tipe stat patokan (sp = Speed, st = Stamina, pw = Power, gt = Guts, wt = Wit)\n",
            "Masukkan kode tipe stat: sp\n",
            "Masukkan nilai stat tersebut: 511\n",
            "\n",
            "📊 Hasil Stat dari Input:\n",
            "Speed: 511\n",
            "Stamina: 341\n",
            "Power: 426\n",
            "Guts: 85\n",
            "Wit: 341\n"
          ]
        }
      ]
    }
  ]
}